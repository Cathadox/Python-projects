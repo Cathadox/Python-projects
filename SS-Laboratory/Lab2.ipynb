{
 "cells": [
  {
   "cell_type": "markdown",
   "metadata": {
    "collapsed": true,
    "pycharm": {
     "name": "#%% md\n"
    }
   },
   "source": [
    "# Measuring Threshold Based Data Reduction along three dimensional dataset\n",
    "## Setting sufficient imports"
   ]
  },
  {
   "cell_type": "code",
   "execution_count": 3,
   "outputs": [],
   "source": [
    "#numpy\n",
    "import numpy as np\n",
    "#matplotlib\n",
    "from matplotlib import pyplot as plt\n",
    "#sklearn\n",
    "from sklearn.metrics import mean_squared_error\n",
    "#pandas\n",
    "import pandas as pd"
   ],
   "metadata": {
    "collapsed": false,
    "pycharm": {
     "name": "#%%\n",
     "is_executing": false
    }
   }
  },
  {
   "cell_type": "markdown",
   "source": [
    "## Reading dataset\n",
    "### This is where we read the dataset from csv file. Now we are reading all of the data measurements (PM10, PM25 and NO2)."
   ],
   "metadata": {
    "collapsed": false,
    "pycharm": {
     "name": "#%% md\n"
    }
   }
  },
  {
   "cell_type": "code",
   "execution_count": 4,
   "outputs": [
    {
     "name": "stdout",
     "text": [
      "               time      PM10      PM25      NO2\n",
      "0     2/3/2019 1:00  114.1680   76.6211  18.4716\n",
      "1     2/3/2019 2:00   99.1302   65.8865  16.4128\n",
      "2     2/3/2019 3:00   84.9147   54.8745  14.6268\n",
      "3     2/3/2019 4:00   79.4718   52.0033  12.8137\n",
      "4     2/3/2019 5:00   85.2981   57.4825  11.8227\n",
      "..              ...       ...       ...      ...\n",
      "164  2/9/2019 21:00  123.7630   84.3536  32.3430\n",
      "165  2/9/2019 22:00  109.7020   72.5397  28.5877\n",
      "166  2/9/2019 23:00  113.1560   74.7292  25.5491\n",
      "167  2/10/2019 0:00  104.8180   71.1300  23.5415\n",
      "168  2/10/2019 1:00  154.5710  107.0370  22.6117\n",
      "\n",
      "[169 rows x 4 columns]\n"
     ],
     "output_type": "stream"
    }
   ],
   "source": [
    "dataset = pd.read_csv(\"merenja_karpos.csv\")\n",
    "print(dataset)"
   ],
   "metadata": {
    "collapsed": false,
    "pycharm": {
     "name": "#%%\n",
     "is_executing": false
    }
   }
  },
  {
   "cell_type": "markdown",
   "source": [
    "## Moving Average\n",
    "### Calculating MA with window of 1, 2 and 3 and a test moving average of window 20 for analyzing purposes"
   ],
   "metadata": {
    "collapsed": false
   }
  },
  {
   "cell_type": "code",
   "execution_count": 6,
   "outputs": [
    {
     "name": "stdout",
     "text": [
      "MA(1):\n",
      "        PM10     PM25      NO2\n",
      "0  114.1680  76.6211  18.4716\n",
      "1   99.1302  65.8865  16.4128\n",
      "2   84.9147  54.8745  14.6268\n",
      "3   79.4718  52.0033  12.8137\n",
      "4   85.2981  57.4825  11.8227\n",
      "5   94.5229  63.8613  11.7907\n",
      "6  117.9750  78.8359  12.5799\n",
      "7  121.7980  80.9945  11.9556\n",
      "8  102.0870  70.9779  12.8577\n",
      "9   73.3529  57.8651  14.2978\n",
      "MA(2):\n",
      "          PM10      PM25       NO2\n",
      "1   106.64910  71.25380  17.44220\n",
      "2    92.02245  60.38050  15.51980\n",
      "3    82.19325  53.43890  13.72025\n",
      "4    82.38495  54.74290  12.31820\n",
      "5    89.91050  60.67190  11.80670\n",
      "6   106.24895  71.34860  12.18530\n",
      "7   119.88650  79.91520  12.26775\n",
      "8   111.94250  75.98620  12.40665\n",
      "9    87.71995  64.42150  13.57775\n",
      "10   69.48255  55.37925  24.76425\n",
      "MA(3):\n",
      "           PM10       PM25        NO2\n",
      "2    99.404300  65.794033  16.503733\n",
      "3    87.838900  57.588100  14.617767\n",
      "4    83.228200  54.786767  13.087733\n",
      "5    86.430933  57.782367  12.142367\n",
      "6    99.265333  66.726567  12.064433\n",
      "7   111.431967  74.563900  12.108733\n",
      "8   113.953333  76.936100  12.464400\n",
      "9    99.079300  69.945833  13.037033\n",
      "10   80.350700  60.578800  20.795400\n",
      "11   62.490367  50.438467  21.837500\n",
      "MA(20):\n",
      "          PM10       PM25        NO2\n",
      "20  67.198105  47.476540  15.015160\n",
      "21  66.126710  46.641240  15.311270\n",
      "22  66.045855  46.451395  15.477255\n",
      "23  65.706090  46.066910  15.520535\n",
      "24  65.203550  45.602135  15.547515\n",
      "25  63.528405  44.318895  15.486155\n",
      "26  60.880980  42.448335  15.280815\n",
      "27  58.306485  40.705340  15.073910\n",
      "28  56.350770  39.255300  14.829290\n",
      "29  56.140985  38.687775  14.653785\n"
     ],
     "output_type": "stream"
    }
   ],
   "source": [
    "#window 1\n",
    "moving_average_one = dataset.rolling(1).mean()\n",
    "#window 2\n",
    "moving_average_two = dataset.rolling(2).mean()\n",
    "#window 3\n",
    "moving_average_three = dataset.rolling(3).mean()\n",
    "#window 20\n",
    "moving_average_test = dataset.rolling(20).mean()\n",
    "\n",
    "### filling Nan values in dataset\n",
    "moving_average_two.fillna(0, inplace=True)\n",
    "moving_average_three.fillna(0, inplace=True)\n",
    "moving_average_test.fillna(0, inplace=True)\n",
    "\n",
    "print(\"MA(1):\\n\", moving_average_one.head(10))\n",
    "print(\"MA(2):\\n\", moving_average_two[1:].head(10))\n",
    "print(\"MA(3):\\n\", moving_average_three[2:].head(10))\n",
    "print(\"MA(20):\\n\", moving_average_test[20:].head(10))"
   ],
   "metadata": {
    "collapsed": false,
    "pycharm": {
     "name": "#%%\n",
     "is_executing": false
    }
   }
  },
  {
   "cell_type": "markdown",
   "source": [
    "## Reduced Transmission\n",
    "### Method for calculating percentage of reduced transmission for each moving average"
   ],
   "metadata": {
    "collapsed": false
   }
  },
  {
   "cell_type": "code",
   "execution_count": 11,
   "outputs": [],
   "source": [
    "threshold = input()\n",
    "def reduced_transmission(original_dataset, ma_dataset, threshold):\n",
    "    #list for keeping threshold variation package number percentage\n",
    "    reduction_list = list()\n",
    "    threshold_list = threshold_value(threshold)\n",
    "    for iteration in range (0,len(threshold_list)):\n",
    "        packages = 0\n",
    "        for index in range(1, original_dataset.PM10.count()):\n",
    "            difference = abs(original_dataset.PM10.get(index)-ma_dataset.PM10.get(index))\n",
    "            if difference <= threshold_list[iteration]:\n",
    "                difference = abs(original_dataset.PM25.get(index)-ma_dataset.PM25.get(index))\n",
    "                if difference <= threshold_list[iteration]:\n",
    "                    difference = abs(original_dataset.NO2.get(index)-ma_dataset.NO2.get(index))\n",
    "                    if difference <= threshold_list[iteration]:\n",
    "                        packages += 1\n",
    "        reduction_list.append((100-(packages/original_dataset.PM10.count())*100))\n",
    "    return reduction_list\n",
    "\n",
    "def threshold_value(thres):\n",
    "    threshold_list = list()\n",
    "    for i in range(0, int(thres), 2):\n",
    "        threshold_list.append(i)\n",
    "    return threshold_list"
   ],
   "metadata": {
    "collapsed": false,
    "pycharm": {
     "name": "#%%\n",
     "is_executing": false
    }
   }
  },
  {
   "cell_type": "markdown",
   "source": [
    "## Plotting lists of reduced transmissions\n",
    "### Plotting percentage of packages which are not being set due to TBDR or Threshold Based Data Reduction"
   ],
   "metadata": {
    "collapsed": false
   }
  },
  {
   "cell_type": "code",
   "execution_count": 12,
   "outputs": [
    {
     "data": {
      "text/plain": "<Figure size 432x288 with 1 Axes>",
      "image/png": "[encoded data removed]"
     },
     "metadata": {
      "needs_background": "light"
     },
     "output_type": "display_data"
    }
   ],
   "source": [
    "transmission_list = threshold_value(threshold)\n",
    "plt.subplot(xlabel='Threshold', ylabel='% of reduced transmissions')\n",
    "plt.xticks(ticks=[0,1,2,3,4,5,6,7,8,9],labels=transmission_list)\n",
    "\n",
    "reduced_transmission_list = list()\n",
    "reduced_transmission_list.append(reduced_transmission(dataset, moving_average_one, threshold))\n",
    "reduced_transmission_list.append(reduced_transmission(dataset, moving_average_two, threshold))\n",
    "reduced_transmission_list.append(reduced_transmission(dataset, moving_average_three, threshold))\n",
    "reduced_transmission_list.append(reduced_transmission(dataset, moving_average_test, threshold))\n",
    "\n",
    "plt.plot(reduced_transmission_list[0],color='green', label='MA(1)')\n",
    "plt.plot(reduced_transmission_list[1],color='yellow', label='MA(2)')\n",
    "plt.plot(reduced_transmission_list[2],color='blue', label='MA(3)')\n",
    "plt.plot(reduced_transmission_list[3],color='red', label='MA(20)')\n",
    "plt.legend(loc='best')\n",
    "plt.show()"
   ],
   "metadata": {
    "collapsed": false,
    "pycharm": {
     "name": "#%%\n",
     "is_executing": false
    }
   }
  }
 ],
 "metadata": {
  "kernelspec": {
   "display_name": "Python 3",
   "language": "python",
   "name": "python3"
  },
  "language_info": {
   "codemirror_mode": {
    "name": "ipython",
    "version": 2
   },
   "file_extension": ".py",
   "mimetype": "text/x-python",
   "name": "python",
   "nbconvert_exporter": "python",
   "pygments_lexer": "ipython2",
   "version": "2.7.6"
  },
  "pycharm": {
   "stem_cell": {
    "cell_type": "raw",
    "source": [],
    "metadata": {
     "collapsed": false
    }
   }
  }
 },
 "nbformat": 4,
 "nbformat_minor": 0
}